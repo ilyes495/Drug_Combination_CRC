{
 "cells": [
  {
   "cell_type": "code",
   "execution_count": 1,
   "id": "f55e1880",
   "metadata": {},
   "outputs": [],
   "source": [
    "%load_ext autoreload\n",
    "%autoreload 2"
   ]
  },
  {
   "cell_type": "code",
   "execution_count": 2,
   "id": "4de10987",
   "metadata": {},
   "outputs": [],
   "source": [
    "#! conda install pytorch torchvision torchaudio cudatoolkit=11.1 -c pytorch -c nvidia\n",
    "#! conda install -y -c conda-forge tqdm matplotlib"
   ]
  },
  {
   "cell_type": "code",
   "execution_count": 2,
   "id": "4542da70",
   "metadata": {},
   "outputs": [],
   "source": [
    "import sys, os\n",
    "# import options_parser as op\n",
    "import numpy as np\n",
    "import torch\n",
    "import random\n",
    "from torch.utils.data import Dataset, DataLoader\n",
    "import argparse\n",
    "from torch.autograd import Variable\n",
    "import pandas as pd\n",
    "\n",
    "\n",
    "from torch import nn, optim\n",
    "from torch.autograd import Variable\n",
    "from torch.utils.data import DataLoader\n",
    "from torchvision import datasets, transforms\n",
    "from sklearn.metrics import r2_score, mean_squared_error\n",
    "from sklearn.preprocessing import Normalizer\n",
    "from sklearn.model_selection import train_test_split\n",
    "import matplotlib.pyplot as plt\n",
    "from mlp import MLP_simple, MLP_batchnorm, MLP_rawcgc, MLP_w_mutation\n",
    "from lantentDataset import LatentDataset\n",
    "from tqdm import tqdm\n",
    "SEED = 459\n",
    "np.random.seed(SEED)\n",
    "torch.manual_seed(SEED)\n",
    "random.seed(SEED)\n",
    "torch.cuda.manual_seed(SEED)\n",
    "torch.backends.cudnn.deterministic = True"
   ]
  },
  {
   "cell_type": "markdown",
   "id": "d6e8f53c-0632-440d-8f93-a5e49424a812",
   "metadata": {
    "jupyter": {
     "outputs_hidden": true
    },
    "tags": []
   },
   "source": [
    "## Train an ANN to predict the log2-fold change vialbility for a given cell line+ mutations + drug"
   ]
  },
  {
   "cell_type": "code",
   "execution_count": 3,
   "id": "4c0d0638",
   "metadata": {},
   "outputs": [
    {
     "name": "stderr",
     "output_type": "stream",
     "text": [
      "/home/labuser/anaconda3/envs/rdkit/lib/python3.7/site-packages/numpy/lib/arraysetops.py:583: FutureWarning: elementwise comparison failed; returning scalar instead, but in the future will perform elementwise comparison\n",
      "  mask |= (ar1 == a)\n"
     ]
    }
   ],
   "source": [
    "drug_latent = pd.read_csv('./data/drug_latent.csv')\n",
    "encoded_cell_lines = pd.read_csv('./data/encoded_cell_lines.csv', index_col=0)\n",
    "drug_resp = pd.read_csv('./data/primary-screen-replicate-collapsed-logfold-change_longFormat.csv', index_col=0)\n",
    "mutations_df = pd.read_csv('../data/CCLE_muttion_final.csv', index_col=0)"
   ]
  },
  {
   "cell_type": "code",
   "execution_count": 4,
   "id": "b415574b",
   "metadata": {},
   "outputs": [],
   "source": [
    "cell_ids = drug_resp.cell_id.value_counts().index.values\n",
    "train_cells, test_cells =  train_test_split(cell_ids, test_size=0.2)\n",
    "train_cells, val_cells =  train_test_split(train_cells, test_size=0.1)"
   ]
  },
  {
   "cell_type": "code",
   "execution_count": 7,
   "id": "f4c11238-e624-4262-86a9-bd3faaff0289",
   "metadata": {},
   "outputs": [],
   "source": [
    "import pickle\n",
    "\n",
    "data = {'train_cells':train_cells, 'val_cells':val_cells, 'test_cells':test_cells}\n",
    "with open('./data/cells_split.p', 'wb') as f:\n",
    "    pickle.dump(data, f)\n"
   ]
  },
  {
   "cell_type": "code",
   "execution_count": 9,
   "id": "eb653cb5",
   "metadata": {},
   "outputs": [],
   "source": [
    "trainDataset = LatentDataset(drug_resp[drug_resp.cell_id.isin(train_cells)].reset_index(drop=True),drug_latent,encoded_cell_lines, mutations_df, include_mutation=True  )\n",
    "validationDataset = LatentDataset(drug_resp[drug_resp.cell_id.isin(val_cells)].reset_index(drop=True),drug_latent,encoded_cell_lines, mutations_df, include_mutation=True   )\n",
    "testDataset = LatentDataset(drug_resp[drug_resp.cell_id.isin(test_cells)].reset_index(drop=True),drug_latent,encoded_cell_lines, mutations_df, include_mutation=True   )\n",
    "\n",
    "trainLoader = DataLoader(trainDataset, batch_size=1000,num_workers=16, shuffle=True, drop_last=True)\n",
    "validationLoader = DataLoader(validationDataset, batch_size=1000,num_workers=16, drop_last=True)\n",
    "testLoader = DataLoader(testDataset, batch_size=1000,num_workers=16, drop_last=True)"
   ]
  },
  {
   "cell_type": "code",
   "execution_count": 10,
   "id": "b84a4cc5-3845-40b4-801b-dfbf01e7020c",
   "metadata": {},
   "outputs": [
    {
     "data": {
      "text/plain": [
       "(516123, 206399, (568, 18787))"
      ]
     },
     "execution_count": 10,
     "metadata": {},
     "output_type": "execute_result"
    }
   ],
   "source": [
    "len(testDataset),len(validationDataset), mutations_df.shape"
   ]
  },
  {
   "cell_type": "code",
   "execution_count": 28,
   "id": "a9d78ccf",
   "metadata": {},
   "outputs": [],
   "source": [
    "drug_latent_size, ge_latent_size, mutat_size = 56, 1024, 18787\n",
    "model = MLP_w_mutation(drug_latent_size, ge_latent_size, mutat_size)"
   ]
  },
  {
   "cell_type": "code",
   "execution_count": 29,
   "id": "25a2e794",
   "metadata": {},
   "outputs": [],
   "source": [
    "learning_rate = 0.001"
   ]
  },
  {
   "cell_type": "code",
   "execution_count": null,
   "id": "362f9d94",
   "metadata": {
    "tags": []
   },
   "outputs": [
    {
     "name": "stderr",
     "output_type": "stream",
     "text": [
      "Epoch: 11:  10%|█         | 10/100 [1:01:18<8:48:44, 352.49s/it, Train Loss=319, Validation Loss=0, R2_Score=-1, Best=117]      "
     ]
    }
   ],
   "source": [
    "if torch.cuda.is_available():\n",
    "    model = model.cuda()\n",
    "\n",
    "criterion = nn.MSELoss()\n",
    "optimizer = optim.Adam(model.parameters(), lr=learning_rate, weight_decay=0.0005)\n",
    "\n",
    "\n",
    "epoch = 0\n",
    "bestR2 = -1\n",
    "bestLoss = float(\"inf\")\n",
    "bestEpoch = 0\n",
    "path = './trainedModels/'\n",
    "num_epochs =100\n",
    "pbar = tqdm(range(1,num_epochs+1))\n",
    "\n",
    "for epoch in pbar:\n",
    "    pbar.set_description(f\"Epoch: {epoch}\")\n",
    "    train_loss = 0.\n",
    "    rmse, r2 = 0,-1\n",
    "    model.train()\n",
    "    for batch in trainLoader:\n",
    "\n",
    "        geLatentVec, dLatentVec, mutations, target = batch\n",
    "        \n",
    "        target = target.reshape(-1,1)\n",
    "        # if geLatentVec.shape[0] != 50:\n",
    "        #     continue\n",
    "\n",
    "        if torch.cuda.is_available():\n",
    "            geLatentVec = geLatentVec.cuda()\n",
    "            dLatentVec = dLatentVec.cuda()\n",
    "            mutations = mutations.cuda()\n",
    "            target = target.cuda()\n",
    "        else:\n",
    "            geLatentVec = Variable(geLatentVec)\n",
    "            dLatentVec = Variable(dLatentVec)\n",
    "            mutations = Variable(mutations)\n",
    "            target = Variable(target)\n",
    "        out = model(geLatentVec, dLatentVec, mutations)\n",
    "        loss = criterion(out, target)\n",
    "\n",
    "        optimizer.zero_grad()\n",
    "        loss.backward()\n",
    "        optimizer.step()\n",
    "        train_loss += loss.cpu().data.numpy() * len(target)\n",
    "        \n",
    "        pbar.set_postfix({'Train Loss': loss.cpu().data.numpy() * len(target), 'Validation Loss':rmse, 'R2_Score':r2, 'Best':bestLoss})\n",
    "        \n",
    "    train_loss = train_loss / len(trainLoader.dataset)\n",
    "    pbar.set_postfix({'Train Loss': train_loss, 'Validation Loss':rmse, 'R2_Score':r2, 'Best':bestLoss})\n",
    "    \n",
    "    torch.save(model.state_dict(), path + f'MLP_w_mutation_{epoch}.pt')\n",
    "    if epoch % 2 == 0:\n",
    "        \n",
    "        model.eval()\n",
    "\n",
    "        for batch in validationLoader:\n",
    "            geLatentVec, dLatentVec, mutations, target = batch\n",
    "            target = target.reshape(-1,1)\n",
    "            if torch.cuda.is_available():\n",
    "                geLatentVec = geLatentVec.cuda()\n",
    "                dLatentVec = dLatentVec.cuda()\n",
    "                mutations = mutations.cuda()\n",
    "                target = target.cuda()\n",
    "\n",
    "            out = model(geLatentVec, dLatentVec, mutations)\n",
    "\n",
    "            out = out.data.cpu().numpy().tolist()\n",
    "            target = target.cpu().numpy().tolist()\n",
    "            r2 += r2_score(target, out)\n",
    "            rmse += mean_squared_error(target, out)**0.5\n",
    "            # SS_tot = torch.std(target)\n",
    "            # SS_res = evalLoss\n",
    "            \n",
    "            pbar.set_postfix({'Train Loss': train_loss, 'Validation Loss':rmse, 'R2_Score':r2, 'Best':bestLoss})\n",
    "            \n",
    "#             print('epoch: {}, Validation Loss: {:.6f}, R2_Score: {:.6f}'.format(epoch, rmse, r2))\n",
    "        if (r2 > bestR2):\n",
    "            bestLoss = rmse\n",
    "            bestR2 = r2\n",
    "            bestEpoch = epoch\n",
    "            torch.save(model.state_dict(), path + 'MLP_w_mutation_best.pt')"
   ]
  }
 ],
 "metadata": {
  "kernelspec": {
   "display_name": "Python 3",
   "language": "python",
   "name": "python3"
  },
  "language_info": {
   "codemirror_mode": {
    "name": "ipython",
    "version": 3
   },
   "file_extension": ".py",
   "mimetype": "text/x-python",
   "name": "python",
   "nbconvert_exporter": "python",
   "pygments_lexer": "ipython3",
   "version": "3.7.10"
  }
 },
 "nbformat": 4,
 "nbformat_minor": 5
}
